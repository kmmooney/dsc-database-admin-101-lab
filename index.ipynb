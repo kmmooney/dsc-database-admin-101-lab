{
 "cells": [
  {
   "cell_type": "markdown",
   "metadata": {},
   "source": [
    "# Database Admin 101 - Lab\n",
    "\n",
    "## Introduction \n",
    "\n",
    "In this lab, you'll go through the process of designing and creating a database. From there, you'll begin to populate this table with mock data provided to you.\n",
    "\n",
    "## Objectives\n",
    "\n",
    "You will be able to:\n",
    "\n",
    "* Use knowledge of the structure of databases to create a database and populate it"
   ]
  },
  {
   "cell_type": "markdown",
   "metadata": {},
   "source": [
    "## The Scenario\n",
    "\n",
    "You are looking to design a database for a school that will house various information from student grades to contact information, class roster lists and attendance. First, think of how you would design such a database. What tables would you include? What columns would each table have? What would be the primary means to join said tables?"
   ]
  },
  {
   "cell_type": "markdown",
   "metadata": {},
   "source": [
    "## Creating the Database\n",
    "\n",
    "Now that you've put a little thought into how you might design your database, it's time to go ahead and create it! Start by import the necessary packages. Then, create a database called **school.sqlite**."
   ]
  },
  {
   "cell_type": "code",
   "execution_count": 1,
   "metadata": {},
   "outputs": [],
   "source": [
    "# Import necessary packages\n",
    "import sqlite3"
   ]
  },
  {
   "cell_type": "code",
   "execution_count": 4,
   "metadata": {},
   "outputs": [],
   "source": [
    "# Create the database school.sqlite \n",
    "con = sqlite3.connect('school.sqlite')\n",
    "curs = con.cursor()"
   ]
  },
  {
   "cell_type": "markdown",
   "metadata": {},
   "source": [
    "## Create a Table for Contact Information\n",
    "\n",
    "Create a table called contactInfo to house contact information for both students and staff. Be sure to include columns for first name, last name, role (student/staff), telephone number, street, city, state, and zipcode. Be sure to also create a primary key for the table. "
   ]
  },
  {
   "cell_type": "code",
   "execution_count": 6,
   "metadata": {},
   "outputs": [
    {
     "data": {
      "text/plain": [
       "<sqlite3.Cursor at 0x224d3e99180>"
      ]
     },
     "execution_count": 6,
     "metadata": {},
     "output_type": "execute_result"
    }
   ],
   "source": [
    "# Your code here\n",
    "curs.execute(\"\"\"CREATE TABLE contactInfo (\n",
    "                                userID INTEGER PRIMARY KEY,\n",
    "                                first_name TEXT,\n",
    "                                last_name TEXT,\n",
    "                                role TEXT,\n",
    "                                phone_number INTEGER,\n",
    "                                street TEXT,\n",
    "                                city TEXT,\n",
    "                                state TEXT,\n",
    "                                zipcode INTEGER)\n",
    "            \"\"\")"
   ]
  },
  {
   "cell_type": "markdown",
   "metadata": {},
   "source": [
    "## Populate the Table\n",
    "\n",
    "Below, code is provided for you in order to load a list of dictionaries. Briefly examine the list. Each dictionary in the list will serve as an entry for your contact info table. Once you've briefly investigated the structure of this data, write a for loop to iterate through the list and create an entry in your table for each person's contact info."
   ]
  },
  {
   "cell_type": "code",
   "execution_count": 9,
   "metadata": {},
   "outputs": [
    {
     "name": "stdout",
     "output_type": "stream",
     "text": [
      "{'firstName': 'Christine', 'lastName': 'Holden', 'role': 'staff', 'telephone ': 2035687697, 'street': '1672 Whitman Court', 'city': 'Stamford', 'state': 'CT', 'zipcode ': '06995'}\n"
     ]
    }
   ],
   "source": [
    "# Load the list of dictionaries; just run this cell\n",
    "import pickle\n",
    "\n",
    "with open('contact_list.pickle', 'rb') as f:\n",
    "    contacts = pickle.load(f)\n",
    "    \n",
    "print(contacts[0])"
   ]
  },
  {
   "cell_type": "code",
   "execution_count": 14,
   "metadata": {},
   "outputs": [],
   "source": [
    "# Iterate over the contact list and populate the contactInfo table here\n",
    "for contact in contacts:\n",
    "    firstName = contact['firstName']\n",
    "    lastName = contact['lastName']\n",
    "    role = contact['role']\n",
    "    telephone = contact['telephone ']\n",
    "    street = contact['street']\n",
    "    city = contact['city']\n",
    "    state = contact['state']\n",
    "    zipcode = contact['zipcode ']\n",
    "    curs.execute(\"\"\"INSERT INTO contactInfo (first_name, last_name, role, phone_number, street, city, state, zipcode)\n",
    "                    VALUES ('{}', '{}', '{}', '{}', '{}', '{}', '{}', '{}')\"\"\".format(firstName, lastName, role, telephone, street, city, state, zipcode))\n",
    "        "
   ]
  },
  {
   "cell_type": "markdown",
   "metadata": {},
   "source": [
    "**Query the Table to Ensure it is populated**"
   ]
  },
  {
   "cell_type": "code",
   "execution_count": 17,
   "metadata": {},
   "outputs": [
    {
     "data": {
      "text/plain": [
       "[(1,\n",
       "  'Christine',\n",
       "  'Holden',\n",
       "  'staff',\n",
       "  2035687697,\n",
       "  '1672 Whitman Court',\n",
       "  'Stamford',\n",
       "  'CT',\n",
       "  6995),\n",
       " (2,\n",
       "  'Christopher',\n",
       "  'Warren',\n",
       "  'student',\n",
       "  2175150957,\n",
       "  '1935 University Hill Road',\n",
       "  'Champaign',\n",
       "  'IL',\n",
       "  61938),\n",
       " (3,\n",
       "  'Linda',\n",
       "  'Jacobson',\n",
       "  'staff',\n",
       "  4049446441,\n",
       "  '479 Musgrave Street',\n",
       "  'Atlanta',\n",
       "  'GA',\n",
       "  30303),\n",
       " (4,\n",
       "  'Andrew',\n",
       "  'Stepp',\n",
       "  'student',\n",
       "  7866419252,\n",
       "  '2981 Lamberts Branch Road',\n",
       "  'Hialeah',\n",
       "  'Fl',\n",
       "  33012),\n",
       " (5,\n",
       "  'Jane',\n",
       "  'Evans',\n",
       "  'student',\n",
       "  3259909290,\n",
       "  '1461 Briarhill Lane',\n",
       "  'Abilene',\n",
       "  'TX',\n",
       "  79602),\n",
       " (6,\n",
       "  'Jane',\n",
       "  'Evans',\n",
       "  'student',\n",
       "  3259909290,\n",
       "  '1461 Briarhill Lane',\n",
       "  'Abilene',\n",
       "  'TX',\n",
       "  79602),\n",
       " (7,\n",
       "  'Mary',\n",
       "  'Raines',\n",
       "  'student',\n",
       "  9075772295,\n",
       "  '3975 Jerry Toth Drive',\n",
       "  'Ninilchik',\n",
       "  'AK',\n",
       "  99639),\n",
       " (8,\n",
       "  'Ed',\n",
       "  'Lyman',\n",
       "  'student',\n",
       "  5179695576,\n",
       "  '3478 Be Sreet',\n",
       "  'Lansing',\n",
       "  'MI',\n",
       "  48933)]"
      ]
     },
     "execution_count": 17,
     "metadata": {},
     "output_type": "execute_result"
    }
   ],
   "source": [
    "# Your code here \n",
    "curs.execute(\"\"\"SELECT * FROM contactInfo;\"\"\").fetchall()"
   ]
  },
  {
   "cell_type": "markdown",
   "metadata": {},
   "source": [
    "## Commit Your Changes to the Database\n",
    "\n",
    "Persist your changes by committing them to the database."
   ]
  },
  {
   "cell_type": "code",
   "execution_count": 18,
   "metadata": {},
   "outputs": [],
   "source": [
    "# Your code here\n",
    "con.commit()\n"
   ]
  },
  {
   "cell_type": "markdown",
   "metadata": {},
   "source": [
    "## Create a Table for Student Grades\n",
    "\n",
    "Create a new table in the database called \"grades\". In the table, include the following fields: userId, courseId, grade.\n",
    "\n",
    "** This problem is a bit more tricky and will require a dual key. (A nuance you have yet to see.)\n",
    "Here's how to do that:\n",
    "\n",
    "```SQL\n",
    "CREATE TABLE table_name(\n",
    "   column_1 INTEGER NOT NULL,\n",
    "   column_2 INTEGER NOT NULL,\n",
    "   ...\n",
    "   PRIMARY KEY(column_1,column_2,...)\n",
    ");\n",
    "```"
   ]
  },
  {
   "cell_type": "code",
   "execution_count": 19,
   "metadata": {},
   "outputs": [
    {
     "data": {
      "text/plain": [
       "<sqlite3.Cursor at 0x224d3e99180>"
      ]
     },
     "execution_count": 19,
     "metadata": {},
     "output_type": "execute_result"
    }
   ],
   "source": [
    "# Create the grades table\n",
    "# Your code here\n",
    "curs.execute(\"\"\"CREATE TABLE grades (\n",
    "                                userID INTEGER NOT NULL,\n",
    "                                courseId INTEGER NOT NULL,\n",
    "                                grade INTEGER,\n",
    "                                PRIMARY KEY(userID, courseId))\n",
    "            \"\"\")"
   ]
  },
  {
   "cell_type": "markdown",
   "metadata": {},
   "source": [
    "## Remove Duplicate Entries\n",
    "\n",
    "An analyst just realized that there is a duplicate entry in the contactInfo table! Find and remove it."
   ]
  },
  {
   "cell_type": "code",
   "execution_count": 26,
   "metadata": {},
   "outputs": [
    {
     "data": {
      "text/plain": [
       "[(5, 'Jane', 'Evans', 3259909290, 2)]"
      ]
     },
     "execution_count": 26,
     "metadata": {},
     "output_type": "execute_result"
    }
   ],
   "source": [
    "# Find the duplicate entry\n",
    "curs.execute(\"\"\"SELECT userID, first_name, last_name, phone_number, COUNT(*) \n",
    "               FROM contactInfo\n",
    "               GROUP BY first_name, last_name, phone_number \n",
    "               HAVING COUNT(*) > 1;\"\"\").fetchall()"
   ]
  },
  {
   "cell_type": "code",
   "execution_count": 27,
   "metadata": {},
   "outputs": [
    {
     "data": {
      "text/plain": [
       "<sqlite3.Cursor at 0x224d3e99180>"
      ]
     },
     "execution_count": 27,
     "metadata": {},
     "output_type": "execute_result"
    }
   ],
   "source": [
    "# Delete the duplicate entry\n",
    "curs.execute(\"\"\"DELETE FROM contactInfo WHERE userID = 5\"\"\")"
   ]
  },
  {
   "cell_type": "code",
   "execution_count": 28,
   "metadata": {},
   "outputs": [
    {
     "data": {
      "text/plain": [
       "[]"
      ]
     },
     "execution_count": 28,
     "metadata": {},
     "output_type": "execute_result"
    }
   ],
   "source": [
    "# Check that the duplicate entry was removed\n",
    "curs.execute(\"\"\"SELECT userID, first_name, last_name, phone_number, COUNT(*) \n",
    "               FROM contactInfo\n",
    "               GROUP BY first_name, last_name, phone_number \n",
    "               HAVING COUNT(*) > 1;\"\"\").fetchall()"
   ]
  },
  {
   "cell_type": "markdown",
   "metadata": {},
   "source": [
    "## Updating an Address\n",
    "\n",
    "Ed Lyman just moved to `2910 Simpson Avenue York, PA 17403`. Update his address accordingly."
   ]
  },
  {
   "cell_type": "code",
   "execution_count": 30,
   "metadata": {},
   "outputs": [
    {
     "data": {
      "text/plain": [
       "<sqlite3.Cursor at 0x224d3e99180>"
      ]
     },
     "execution_count": 30,
     "metadata": {},
     "output_type": "execute_result"
    }
   ],
   "source": [
    "# Update Ed's address\n",
    "curs.execute(\"\"\"UPDATE contactInfo \n",
    "                SET street = '2910 Simpson Avenue York', state= 'PA', zipcode = 17403\n",
    "                WHERE first_name = 'Ed' AND last_name = 'Lyman'\"\"\")"
   ]
  },
  {
   "cell_type": "code",
   "execution_count": 31,
   "metadata": {},
   "outputs": [
    {
     "data": {
      "text/plain": [
       "[(1,\n",
       "  'Christine',\n",
       "  'Holden',\n",
       "  'staff',\n",
       "  2035687697,\n",
       "  '1672 Whitman Court',\n",
       "  'Stamford',\n",
       "  'CT',\n",
       "  6995),\n",
       " (2,\n",
       "  'Christopher',\n",
       "  'Warren',\n",
       "  'student',\n",
       "  2175150957,\n",
       "  '1935 University Hill Road',\n",
       "  'Champaign',\n",
       "  'IL',\n",
       "  61938),\n",
       " (3,\n",
       "  'Linda',\n",
       "  'Jacobson',\n",
       "  'staff',\n",
       "  4049446441,\n",
       "  '479 Musgrave Street',\n",
       "  'Atlanta',\n",
       "  'GA',\n",
       "  30303),\n",
       " (4,\n",
       "  'Andrew',\n",
       "  'Stepp',\n",
       "  'student',\n",
       "  7866419252,\n",
       "  '2981 Lamberts Branch Road',\n",
       "  'Hialeah',\n",
       "  'Fl',\n",
       "  33012),\n",
       " (6,\n",
       "  'Jane',\n",
       "  'Evans',\n",
       "  'student',\n",
       "  3259909290,\n",
       "  '1461 Briarhill Lane',\n",
       "  'Abilene',\n",
       "  'TX',\n",
       "  79602),\n",
       " (7,\n",
       "  'Mary',\n",
       "  'Raines',\n",
       "  'student',\n",
       "  9075772295,\n",
       "  '3975 Jerry Toth Drive',\n",
       "  'Ninilchik',\n",
       "  'AK',\n",
       "  99639),\n",
       " (8,\n",
       "  'Ed',\n",
       "  'Lyman',\n",
       "  'student',\n",
       "  5179695576,\n",
       "  '2910 Simpson Avenue York',\n",
       "  'Lansing',\n",
       "  'PA',\n",
       "  17403)]"
      ]
     },
     "execution_count": 31,
     "metadata": {},
     "output_type": "execute_result"
    }
   ],
   "source": [
    "# Query the database to ensure the change was made\n",
    "curs.execute(\"\"\"SELECT * FROM contactInfo;\"\"\").fetchall()"
   ]
  },
  {
   "cell_type": "markdown",
   "metadata": {},
   "source": [
    "## Commit Your Changes to the Database\n",
    "\n",
    "Once again, persist your changes by committing them to the database."
   ]
  },
  {
   "cell_type": "code",
   "execution_count": 33,
   "metadata": {},
   "outputs": [],
   "source": [
    "# Your code here\n",
    "con.commit()"
   ]
  },
  {
   "cell_type": "markdown",
   "metadata": {},
   "source": [
    "## Summary\n",
    "\n",
    "While there's certainly more to do with setting up and managing this database, you got a taste for creating, populating, and maintaining databases! Feel free to continue fleshing out this exercise for more practice. "
   ]
  }
 ],
 "metadata": {
  "kernelspec": {
   "display_name": "Python 3",
   "language": "python",
   "name": "python3"
  },
  "language_info": {
   "codemirror_mode": {
    "name": "ipython",
    "version": 3
   },
   "file_extension": ".py",
   "mimetype": "text/x-python",
   "name": "python",
   "nbconvert_exporter": "python",
   "pygments_lexer": "ipython3",
   "version": "3.8.5"
  },
  "toc": {
   "base_numbering": 1,
   "nav_menu": {},
   "number_sections": true,
   "sideBar": true,
   "skip_h1_title": false,
   "title_cell": "Table of Contents",
   "title_sidebar": "Contents",
   "toc_cell": false,
   "toc_position": {},
   "toc_section_display": true,
   "toc_window_display": false
  }
 },
 "nbformat": 4,
 "nbformat_minor": 2
}
